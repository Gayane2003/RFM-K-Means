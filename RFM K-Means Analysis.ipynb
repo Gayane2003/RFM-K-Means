{
 "cells": [
  {
   "cell_type": "markdown",
   "id": "1b93b23d",
   "metadata": {},
   "source": [
    "<h1> <i> RFM & K-Means Analysis"
   ]
  },
  {
   "cell_type": "code",
   "execution_count": null,
   "id": "aac970b4",
   "metadata": {},
   "outputs": [],
   "source": [
    "import pandas as pd\n",
    "import numpy as np\n",
    "from sklearn.cluster import KMeans\n",
    "from sklearn.metrics import silhouette_score\n",
    "import matplotlib.pyplot as plt\n",
    "import warnings\n",
    "warnings.filterwarnings('ignore')"
   ]
  },
  {
   "cell_type": "code",
   "execution_count": 35,
   "id": "f23e72c4",
   "metadata": {},
   "outputs": [],
   "source": [
    "df = pd.read_excel(\"Walmart Sales.xlsx\")"
   ]
  },
  {
   "cell_type": "code",
   "execution_count": 36,
   "id": "23c5f2ca",
   "metadata": {},
   "outputs": [
    {
     "data": {
      "text/html": [
       "<div>\n",
       "<style scoped>\n",
       "    .dataframe tbody tr th:only-of-type {\n",
       "        vertical-align: middle;\n",
       "    }\n",
       "\n",
       "    .dataframe tbody tr th {\n",
       "        vertical-align: top;\n",
       "    }\n",
       "\n",
       "    .dataframe thead th {\n",
       "        text-align: right;\n",
       "    }\n",
       "</style>\n",
       "<table border=\"1\" class=\"dataframe\">\n",
       "  <thead>\n",
       "    <tr style=\"text-align: right;\">\n",
       "      <th></th>\n",
       "      <th>CustomerID</th>\n",
       "      <th>Purchase_Date</th>\n",
       "      <th>Quantity</th>\n",
       "      <th>UnitPrice</th>\n",
       "      <th>Gender</th>\n",
       "      <th>City</th>\n",
       "      <th>Age</th>\n",
       "      <th>MonthlyIncome</th>\n",
       "      <th>Product_Name</th>\n",
       "    </tr>\n",
       "  </thead>\n",
       "  <tbody>\n",
       "    <tr>\n",
       "      <th>0</th>\n",
       "      <td>C53563</td>\n",
       "      <td>2021-03-24</td>\n",
       "      <td>3</td>\n",
       "      <td>643</td>\n",
       "      <td>Male</td>\n",
       "      <td>Denver</td>\n",
       "      <td>33</td>\n",
       "      <td>4980</td>\n",
       "      <td>Washing machine</td>\n",
       "    </tr>\n",
       "    <tr>\n",
       "      <th>1</th>\n",
       "      <td>C39154</td>\n",
       "      <td>2021-03-23</td>\n",
       "      <td>1</td>\n",
       "      <td>569</td>\n",
       "      <td>Female</td>\n",
       "      <td>San Diego</td>\n",
       "      <td>27</td>\n",
       "      <td>7141</td>\n",
       "      <td>Mobile phone</td>\n",
       "    </tr>\n",
       "    <tr>\n",
       "      <th>2</th>\n",
       "      <td>C39154</td>\n",
       "      <td>2021-03-30</td>\n",
       "      <td>2</td>\n",
       "      <td>69</td>\n",
       "      <td>Female</td>\n",
       "      <td>San Diego</td>\n",
       "      <td>27</td>\n",
       "      <td>7141</td>\n",
       "      <td>Pet food</td>\n",
       "    </tr>\n",
       "    <tr>\n",
       "      <th>3</th>\n",
       "      <td>C39154</td>\n",
       "      <td>2021-09-19</td>\n",
       "      <td>10</td>\n",
       "      <td>105</td>\n",
       "      <td>Female</td>\n",
       "      <td>San Diego</td>\n",
       "      <td>27</td>\n",
       "      <td>7141</td>\n",
       "      <td>Vitamin</td>\n",
       "    </tr>\n",
       "    <tr>\n",
       "      <th>4</th>\n",
       "      <td>C39154</td>\n",
       "      <td>2021-02-08</td>\n",
       "      <td>1</td>\n",
       "      <td>521</td>\n",
       "      <td>Female</td>\n",
       "      <td>San Diego</td>\n",
       "      <td>27</td>\n",
       "      <td>7141</td>\n",
       "      <td>Mobile phone</td>\n",
       "    </tr>\n",
       "    <tr>\n",
       "      <th>...</th>\n",
       "      <td>...</td>\n",
       "      <td>...</td>\n",
       "      <td>...</td>\n",
       "      <td>...</td>\n",
       "      <td>...</td>\n",
       "      <td>...</td>\n",
       "      <td>...</td>\n",
       "      <td>...</td>\n",
       "      <td>...</td>\n",
       "    </tr>\n",
       "    <tr>\n",
       "      <th>124274</th>\n",
       "      <td>C46189</td>\n",
       "      <td>2021-06-28</td>\n",
       "      <td>10</td>\n",
       "      <td>3</td>\n",
       "      <td>Female</td>\n",
       "      <td>Boston</td>\n",
       "      <td>26</td>\n",
       "      <td>6113</td>\n",
       "      <td>Clothing</td>\n",
       "    </tr>\n",
       "    <tr>\n",
       "      <th>124275</th>\n",
       "      <td>C46189</td>\n",
       "      <td>2021-06-26</td>\n",
       "      <td>3</td>\n",
       "      <td>483</td>\n",
       "      <td>Female</td>\n",
       "      <td>Boston</td>\n",
       "      <td>26</td>\n",
       "      <td>6113</td>\n",
       "      <td>Mobile phone</td>\n",
       "    </tr>\n",
       "    <tr>\n",
       "      <th>124276</th>\n",
       "      <td>C46189</td>\n",
       "      <td>2021-03-13</td>\n",
       "      <td>4</td>\n",
       "      <td>39</td>\n",
       "      <td>Female</td>\n",
       "      <td>Boston</td>\n",
       "      <td>26</td>\n",
       "      <td>6113</td>\n",
       "      <td>Plants</td>\n",
       "    </tr>\n",
       "    <tr>\n",
       "      <th>124277</th>\n",
       "      <td>C52591</td>\n",
       "      <td>2021-03-14</td>\n",
       "      <td>6</td>\n",
       "      <td>36</td>\n",
       "      <td>Female</td>\n",
       "      <td>San Diego</td>\n",
       "      <td>67</td>\n",
       "      <td>2702</td>\n",
       "      <td>Pet food</td>\n",
       "    </tr>\n",
       "    <tr>\n",
       "      <th>124278</th>\n",
       "      <td>C52591</td>\n",
       "      <td>2021-09-02</td>\n",
       "      <td>5</td>\n",
       "      <td>14</td>\n",
       "      <td>Female</td>\n",
       "      <td>San Diego</td>\n",
       "      <td>67</td>\n",
       "      <td>2702</td>\n",
       "      <td>Pet food</td>\n",
       "    </tr>\n",
       "  </tbody>\n",
       "</table>\n",
       "<p>124279 rows × 9 columns</p>\n",
       "</div>"
      ],
      "text/plain": [
       "       CustomerID Purchase_Date  Quantity  UnitPrice  Gender       City  Age  \\\n",
       "0          C53563    2021-03-24         3        643    Male     Denver   33   \n",
       "1          C39154    2021-03-23         1        569  Female  San Diego   27   \n",
       "2          C39154    2021-03-30         2         69  Female  San Diego   27   \n",
       "3          C39154    2021-09-19        10        105  Female  San Diego   27   \n",
       "4          C39154    2021-02-08         1        521  Female  San Diego   27   \n",
       "...           ...           ...       ...        ...     ...        ...  ...   \n",
       "124274     C46189    2021-06-28        10          3  Female     Boston   26   \n",
       "124275     C46189    2021-06-26         3        483  Female     Boston   26   \n",
       "124276     C46189    2021-03-13         4         39  Female     Boston   26   \n",
       "124277     C52591    2021-03-14         6         36  Female  San Diego   67   \n",
       "124278     C52591    2021-09-02         5         14  Female  San Diego   67   \n",
       "\n",
       "        MonthlyIncome     Product_Name  \n",
       "0                4980  Washing machine  \n",
       "1                7141     Mobile phone  \n",
       "2                7141         Pet food  \n",
       "3                7141          Vitamin  \n",
       "4                7141     Mobile phone  \n",
       "...               ...              ...  \n",
       "124274           6113         Clothing  \n",
       "124275           6113     Mobile phone  \n",
       "124276           6113           Plants  \n",
       "124277           2702         Pet food  \n",
       "124278           2702         Pet food  \n",
       "\n",
       "[124279 rows x 9 columns]"
      ]
     },
     "execution_count": 36,
     "metadata": {},
     "output_type": "execute_result"
    }
   ],
   "source": [
    "df"
   ]
  },
  {
   "cell_type": "code",
   "execution_count": 37,
   "id": "df273314",
   "metadata": {},
   "outputs": [
    {
     "data": {
      "text/html": [
       "<div>\n",
       "<style scoped>\n",
       "    .dataframe tbody tr th:only-of-type {\n",
       "        vertical-align: middle;\n",
       "    }\n",
       "\n",
       "    .dataframe tbody tr th {\n",
       "        vertical-align: top;\n",
       "    }\n",
       "\n",
       "    .dataframe thead th {\n",
       "        text-align: right;\n",
       "    }\n",
       "</style>\n",
       "<table border=\"1\" class=\"dataframe\">\n",
       "  <thead>\n",
       "    <tr style=\"text-align: right;\">\n",
       "      <th></th>\n",
       "      <th>Quantity</th>\n",
       "      <th>UnitPrice</th>\n",
       "      <th>Age</th>\n",
       "      <th>MonthlyIncome</th>\n",
       "    </tr>\n",
       "  </thead>\n",
       "  <tbody>\n",
       "    <tr>\n",
       "      <th>count</th>\n",
       "      <td>124279.000000</td>\n",
       "      <td>124279.000000</td>\n",
       "      <td>124279.000000</td>\n",
       "      <td>124279.000000</td>\n",
       "    </tr>\n",
       "    <tr>\n",
       "      <th>mean</th>\n",
       "      <td>4.505958</td>\n",
       "      <td>196.565268</td>\n",
       "      <td>51.284835</td>\n",
       "      <td>5720.114637</td>\n",
       "    </tr>\n",
       "    <tr>\n",
       "      <th>std</th>\n",
       "      <td>2.926061</td>\n",
       "      <td>216.382188</td>\n",
       "      <td>18.885571</td>\n",
       "      <td>1853.693784</td>\n",
       "    </tr>\n",
       "    <tr>\n",
       "      <th>min</th>\n",
       "      <td>1.000000</td>\n",
       "      <td>3.000000</td>\n",
       "      <td>18.000000</td>\n",
       "      <td>2501.000000</td>\n",
       "    </tr>\n",
       "    <tr>\n",
       "      <th>25%</th>\n",
       "      <td>2.000000</td>\n",
       "      <td>47.000000</td>\n",
       "      <td>36.000000</td>\n",
       "      <td>4086.000000</td>\n",
       "    </tr>\n",
       "    <tr>\n",
       "      <th>50%</th>\n",
       "      <td>4.000000</td>\n",
       "      <td>91.000000</td>\n",
       "      <td>51.000000</td>\n",
       "      <td>5847.000000</td>\n",
       "    </tr>\n",
       "    <tr>\n",
       "      <th>75%</th>\n",
       "      <td>7.000000</td>\n",
       "      <td>391.000000</td>\n",
       "      <td>67.000000</td>\n",
       "      <td>7263.000000</td>\n",
       "    </tr>\n",
       "    <tr>\n",
       "      <th>max</th>\n",
       "      <td>10.000000</td>\n",
       "      <td>699.000000</td>\n",
       "      <td>83.000000</td>\n",
       "      <td>8997.000000</td>\n",
       "    </tr>\n",
       "  </tbody>\n",
       "</table>\n",
       "</div>"
      ],
      "text/plain": [
       "            Quantity      UnitPrice            Age  MonthlyIncome\n",
       "count  124279.000000  124279.000000  124279.000000  124279.000000\n",
       "mean        4.505958     196.565268      51.284835    5720.114637\n",
       "std         2.926061     216.382188      18.885571    1853.693784\n",
       "min         1.000000       3.000000      18.000000    2501.000000\n",
       "25%         2.000000      47.000000      36.000000    4086.000000\n",
       "50%         4.000000      91.000000      51.000000    5847.000000\n",
       "75%         7.000000     391.000000      67.000000    7263.000000\n",
       "max        10.000000     699.000000      83.000000    8997.000000"
      ]
     },
     "execution_count": 37,
     "metadata": {},
     "output_type": "execute_result"
    }
   ],
   "source": [
    "df.describe() # Getting Statistical information"
   ]
  },
  {
   "cell_type": "code",
   "execution_count": 38,
   "id": "cc084b20",
   "metadata": {},
   "outputs": [
    {
     "name": "stdout",
     "output_type": "stream",
     "text": [
      "<class 'pandas.core.frame.DataFrame'>\n",
      "RangeIndex: 124279 entries, 0 to 124278\n",
      "Data columns (total 9 columns):\n",
      " #   Column         Non-Null Count   Dtype         \n",
      "---  ------         --------------   -----         \n",
      " 0   CustomerID     124279 non-null  object        \n",
      " 1   Purchase_Date  124279 non-null  datetime64[ns]\n",
      " 2   Quantity       124279 non-null  int64         \n",
      " 3   UnitPrice      124279 non-null  int64         \n",
      " 4   Gender         124279 non-null  object        \n",
      " 5   City           124279 non-null  object        \n",
      " 6   Age            124279 non-null  int64         \n",
      " 7   MonthlyIncome  124279 non-null  int64         \n",
      " 8   Product_Name   124279 non-null  object        \n",
      "dtypes: datetime64[ns](1), int64(4), object(4)\n",
      "memory usage: 8.5+ MB\n"
     ]
    }
   ],
   "source": [
    "df.info()"
   ]
  },
  {
   "cell_type": "code",
   "execution_count": 39,
   "id": "7d9cf730",
   "metadata": {},
   "outputs": [
    {
     "name": "stdout",
     "output_type": "stream",
     "text": [
      "Count of Duplicates: 9\n",
      "Count of NA values: 0\n",
      "Single valued columns: Index([], dtype='object')\n"
     ]
    }
   ],
   "source": [
    "print(\"Count of Duplicates:\", df.duplicated().sum())\n",
    "print(\"Count of NA values:\", df.isna().sum().sum())\n",
    "print(\"Single valued columns:\", df.columns[df.nunique()==1])"
   ]
  },
  {
   "cell_type": "code",
   "execution_count": 40,
   "id": "544133d8",
   "metadata": {},
   "outputs": [],
   "source": [
    "df.drop_duplicates(inplace = True)"
   ]
  },
  {
   "cell_type": "code",
   "execution_count": 41,
   "id": "6c3ca97f",
   "metadata": {},
   "outputs": [
    {
     "data": {
      "text/plain": [
       "3     20780\n",
       "2     20739\n",
       "1     20487\n",
       "6      9068\n",
       "8      8891\n",
       "10     8890\n",
       "5      8873\n",
       "4      8863\n",
       "7      8859\n",
       "9      8820\n",
       "Name: Quantity, dtype: int64"
      ]
     },
     "execution_count": 41,
     "metadata": {},
     "output_type": "execute_result"
    }
   ],
   "source": [
    "df['Quantity'].value_counts()"
   ]
  },
  {
   "cell_type": "markdown",
   "id": "682cdfdb",
   "metadata": {},
   "source": [
    "# Recency"
   ]
  },
  {
   "cell_type": "code",
   "execution_count": 42,
   "id": "c394ba13",
   "metadata": {},
   "outputs": [],
   "source": [
    "df['Purchase_Date'] = pd.DatetimeIndex(df['Purchase_Date']).date"
   ]
  },
  {
   "cell_type": "code",
   "execution_count": 43,
   "id": "7a5c3ed0",
   "metadata": {},
   "outputs": [
    {
     "data": {
      "text/html": [
       "<div>\n",
       "<style scoped>\n",
       "    .dataframe tbody tr th:only-of-type {\n",
       "        vertical-align: middle;\n",
       "    }\n",
       "\n",
       "    .dataframe tbody tr th {\n",
       "        vertical-align: top;\n",
       "    }\n",
       "\n",
       "    .dataframe thead th {\n",
       "        text-align: right;\n",
       "    }\n",
       "</style>\n",
       "<table border=\"1\" class=\"dataframe\">\n",
       "  <thead>\n",
       "    <tr style=\"text-align: right;\">\n",
       "      <th></th>\n",
       "      <th>CustomerID</th>\n",
       "      <th>Last_purshace_date</th>\n",
       "      <th>Recency</th>\n",
       "    </tr>\n",
       "  </thead>\n",
       "  <tbody>\n",
       "    <tr>\n",
       "      <th>0</th>\n",
       "      <td>C37051</td>\n",
       "      <td>2021-07-06</td>\n",
       "      <td>86</td>\n",
       "    </tr>\n",
       "    <tr>\n",
       "      <th>1</th>\n",
       "      <td>C37054</td>\n",
       "      <td>2021-09-28</td>\n",
       "      <td>2</td>\n",
       "    </tr>\n",
       "    <tr>\n",
       "      <th>2</th>\n",
       "      <td>C37057</td>\n",
       "      <td>2021-07-31</td>\n",
       "      <td>61</td>\n",
       "    </tr>\n",
       "    <tr>\n",
       "      <th>3</th>\n",
       "      <td>C37060</td>\n",
       "      <td>2021-08-31</td>\n",
       "      <td>30</td>\n",
       "    </tr>\n",
       "    <tr>\n",
       "      <th>4</th>\n",
       "      <td>C37063</td>\n",
       "      <td>2021-09-24</td>\n",
       "      <td>6</td>\n",
       "    </tr>\n",
       "    <tr>\n",
       "      <th>5</th>\n",
       "      <td>C37069</td>\n",
       "      <td>2021-09-21</td>\n",
       "      <td>9</td>\n",
       "    </tr>\n",
       "    <tr>\n",
       "      <th>6</th>\n",
       "      <td>C37072</td>\n",
       "      <td>2021-03-11</td>\n",
       "      <td>203</td>\n",
       "    </tr>\n",
       "  </tbody>\n",
       "</table>\n",
       "</div>"
      ],
      "text/plain": [
       "  CustomerID Last_purshace_date  Recency\n",
       "0     C37051         2021-07-06       86\n",
       "1     C37054         2021-09-28        2\n",
       "2     C37057         2021-07-31       61\n",
       "3     C37060         2021-08-31       30\n",
       "4     C37063         2021-09-24        6\n",
       "5     C37069         2021-09-21        9\n",
       "6     C37072         2021-03-11      203"
      ]
     },
     "execution_count": 43,
     "metadata": {},
     "output_type": "execute_result"
    }
   ],
   "source": [
    "recency_df = df.groupby(by='CustomerID', as_index=False)['Purchase_Date'].max()\n",
    "recency_df.columns = ['CustomerID','Last_purshace_date']\n",
    "max_date=recency_df.Last_purshace_date.max()\n",
    "recency_df['Recency'] = recency_df['Last_purshace_date'].apply(lambda x: (max_date - x).days)\n",
    "recency_df.head(7)"
   ]
  },
  {
   "cell_type": "markdown",
   "id": "05804631",
   "metadata": {},
   "source": [
    "# Frequency"
   ]
  },
  {
   "cell_type": "code",
   "execution_count": 44,
   "id": "81fd3303",
   "metadata": {},
   "outputs": [],
   "source": [
    "copy_data = df\n",
    "copy_data.drop_duplicates(subset=['Product_Name', 'CustomerID'], keep=\"first\", inplace=True)"
   ]
  },
  {
   "cell_type": "code",
   "execution_count": 45,
   "id": "e5487ecb",
   "metadata": {},
   "outputs": [
    {
     "data": {
      "text/html": [
       "<div>\n",
       "<style scoped>\n",
       "    .dataframe tbody tr th:only-of-type {\n",
       "        vertical-align: middle;\n",
       "    }\n",
       "\n",
       "    .dataframe tbody tr th {\n",
       "        vertical-align: top;\n",
       "    }\n",
       "\n",
       "    .dataframe thead th {\n",
       "        text-align: right;\n",
       "    }\n",
       "</style>\n",
       "<table border=\"1\" class=\"dataframe\">\n",
       "  <thead>\n",
       "    <tr style=\"text-align: right;\">\n",
       "      <th></th>\n",
       "      <th>CustomerID</th>\n",
       "      <th>Frequency</th>\n",
       "    </tr>\n",
       "  </thead>\n",
       "  <tbody>\n",
       "    <tr>\n",
       "      <th>0</th>\n",
       "      <td>C37051</td>\n",
       "      <td>2</td>\n",
       "    </tr>\n",
       "    <tr>\n",
       "      <th>1</th>\n",
       "      <td>C37054</td>\n",
       "      <td>7</td>\n",
       "    </tr>\n",
       "    <tr>\n",
       "      <th>2</th>\n",
       "      <td>C37057</td>\n",
       "      <td>4</td>\n",
       "    </tr>\n",
       "    <tr>\n",
       "      <th>3</th>\n",
       "      <td>C37060</td>\n",
       "      <td>7</td>\n",
       "    </tr>\n",
       "    <tr>\n",
       "      <th>4</th>\n",
       "      <td>C37063</td>\n",
       "      <td>2</td>\n",
       "    </tr>\n",
       "  </tbody>\n",
       "</table>\n",
       "</div>"
      ],
      "text/plain": [
       "  CustomerID  Frequency\n",
       "0     C37051          2\n",
       "1     C37054          7\n",
       "2     C37057          4\n",
       "3     C37060          7\n",
       "4     C37063          2"
      ]
     },
     "execution_count": 45,
     "metadata": {},
     "output_type": "execute_result"
    }
   ],
   "source": [
    "frequency_df = copy_data.groupby(by=['CustomerID'], as_index=False)['Product_Name'].count()\n",
    "frequency_df.columns = ['CustomerID','Frequency']\n",
    "frequency_df.head()"
   ]
  },
  {
   "cell_type": "markdown",
   "id": "3d06143f",
   "metadata": {},
   "source": [
    "# Monetary"
   ]
  },
  {
   "cell_type": "code",
   "execution_count": 46,
   "id": "8007a52c",
   "metadata": {},
   "outputs": [
    {
     "data": {
      "text/plain": [
       "Index(['CustomerID', 'Purchase_Date', 'Quantity', 'UnitPrice', 'Gender',\n",
       "       'City', 'Age', 'MonthlyIncome', 'Product_Name'],\n",
       "      dtype='object')"
      ]
     },
     "execution_count": 46,
     "metadata": {},
     "output_type": "execute_result"
    }
   ],
   "source": [
    "df.columns"
   ]
  },
  {
   "cell_type": "code",
   "execution_count": 47,
   "id": "07b31daf",
   "metadata": {},
   "outputs": [
    {
     "data": {
      "text/html": [
       "<div>\n",
       "<style scoped>\n",
       "    .dataframe tbody tr th:only-of-type {\n",
       "        vertical-align: middle;\n",
       "    }\n",
       "\n",
       "    .dataframe tbody tr th {\n",
       "        vertical-align: top;\n",
       "    }\n",
       "\n",
       "    .dataframe thead th {\n",
       "        text-align: right;\n",
       "    }\n",
       "</style>\n",
       "<table border=\"1\" class=\"dataframe\">\n",
       "  <thead>\n",
       "    <tr style=\"text-align: right;\">\n",
       "      <th></th>\n",
       "      <th>CustomerID</th>\n",
       "      <th>Monetary</th>\n",
       "    </tr>\n",
       "  </thead>\n",
       "  <tbody>\n",
       "    <tr>\n",
       "      <th>0</th>\n",
       "      <td>C37051</td>\n",
       "      <td>307</td>\n",
       "    </tr>\n",
       "    <tr>\n",
       "      <th>1</th>\n",
       "      <td>C37054</td>\n",
       "      <td>3024</td>\n",
       "    </tr>\n",
       "    <tr>\n",
       "      <th>2</th>\n",
       "      <td>C37057</td>\n",
       "      <td>3175</td>\n",
       "    </tr>\n",
       "    <tr>\n",
       "      <th>3</th>\n",
       "      <td>C37060</td>\n",
       "      <td>2753</td>\n",
       "    </tr>\n",
       "    <tr>\n",
       "      <th>4</th>\n",
       "      <td>C37063</td>\n",
       "      <td>1678</td>\n",
       "    </tr>\n",
       "  </tbody>\n",
       "</table>\n",
       "</div>"
      ],
      "text/plain": [
       "  CustomerID  Monetary\n",
       "0     C37051       307\n",
       "1     C37054      3024\n",
       "2     C37057      3175\n",
       "3     C37060      2753\n",
       "4     C37063      1678"
      ]
     },
     "execution_count": 47,
     "metadata": {},
     "output_type": "execute_result"
    }
   ],
   "source": [
    "df['Cost'] = df['Quantity'] * df['UnitPrice']\n",
    "monetary_df = df.groupby(by='CustomerID',as_index=False).agg({'Cost': 'sum'})\n",
    "monetary_df.columns = ['CustomerID','Monetary']\n",
    "monetary_df.head()"
   ]
  },
  {
   "cell_type": "code",
   "execution_count": 48,
   "id": "770f3b05",
   "metadata": {},
   "outputs": [
    {
     "data": {
      "text/html": [
       "<div>\n",
       "<style scoped>\n",
       "    .dataframe tbody tr th:only-of-type {\n",
       "        vertical-align: middle;\n",
       "    }\n",
       "\n",
       "    .dataframe tbody tr th {\n",
       "        vertical-align: top;\n",
       "    }\n",
       "\n",
       "    .dataframe thead th {\n",
       "        text-align: right;\n",
       "    }\n",
       "</style>\n",
       "<table border=\"1\" class=\"dataframe\">\n",
       "  <thead>\n",
       "    <tr style=\"text-align: right;\">\n",
       "      <th></th>\n",
       "      <th>CustomerID</th>\n",
       "      <th>Last_purshace_date</th>\n",
       "      <th>Recency</th>\n",
       "      <th>Frequency</th>\n",
       "      <th>Monetary</th>\n",
       "    </tr>\n",
       "  </thead>\n",
       "  <tbody>\n",
       "    <tr>\n",
       "      <th>0</th>\n",
       "      <td>C37051</td>\n",
       "      <td>2021-07-06</td>\n",
       "      <td>86</td>\n",
       "      <td>2</td>\n",
       "      <td>307</td>\n",
       "    </tr>\n",
       "    <tr>\n",
       "      <th>1</th>\n",
       "      <td>C37054</td>\n",
       "      <td>2021-09-28</td>\n",
       "      <td>2</td>\n",
       "      <td>7</td>\n",
       "      <td>3024</td>\n",
       "    </tr>\n",
       "    <tr>\n",
       "      <th>2</th>\n",
       "      <td>C37057</td>\n",
       "      <td>2021-07-31</td>\n",
       "      <td>61</td>\n",
       "      <td>4</td>\n",
       "      <td>3175</td>\n",
       "    </tr>\n",
       "    <tr>\n",
       "      <th>3</th>\n",
       "      <td>C37060</td>\n",
       "      <td>2021-08-31</td>\n",
       "      <td>30</td>\n",
       "      <td>7</td>\n",
       "      <td>2753</td>\n",
       "    </tr>\n",
       "    <tr>\n",
       "      <th>4</th>\n",
       "      <td>C37063</td>\n",
       "      <td>2021-09-24</td>\n",
       "      <td>6</td>\n",
       "      <td>2</td>\n",
       "      <td>1678</td>\n",
       "    </tr>\n",
       "    <tr>\n",
       "      <th>5</th>\n",
       "      <td>C37069</td>\n",
       "      <td>2021-09-21</td>\n",
       "      <td>9</td>\n",
       "      <td>7</td>\n",
       "      <td>3890</td>\n",
       "    </tr>\n",
       "    <tr>\n",
       "      <th>6</th>\n",
       "      <td>C37072</td>\n",
       "      <td>2021-03-11</td>\n",
       "      <td>203</td>\n",
       "      <td>1</td>\n",
       "      <td>504</td>\n",
       "    </tr>\n",
       "  </tbody>\n",
       "</table>\n",
       "</div>"
      ],
      "text/plain": [
       "  CustomerID Last_purshace_date  Recency  Frequency  Monetary\n",
       "0     C37051         2021-07-06       86          2       307\n",
       "1     C37054         2021-09-28        2          7      3024\n",
       "2     C37057         2021-07-31       61          4      3175\n",
       "3     C37060         2021-08-31       30          7      2753\n",
       "4     C37063         2021-09-24        6          2      1678\n",
       "5     C37069         2021-09-21        9          7      3890\n",
       "6     C37072         2021-03-11      203          1       504"
      ]
     },
     "execution_count": 48,
     "metadata": {},
     "output_type": "execute_result"
    }
   ],
   "source": [
    "comb1 = recency_df.merge(frequency_df,on='CustomerID')\n",
    "final_RFM = comb1.merge(monetary_df,on='CustomerID')\n",
    "final_RFM.head(7)"
   ]
  },
  {
   "cell_type": "markdown",
   "id": "915e0bed",
   "metadata": {},
   "source": [
    "# Ranking RFM  scores"
   ]
  },
  {
   "cell_type": "code",
   "execution_count": 49,
   "id": "0894e708",
   "metadata": {},
   "outputs": [
    {
     "data": {
      "text/html": [
       "<div>\n",
       "<style scoped>\n",
       "    .dataframe tbody tr th:only-of-type {\n",
       "        vertical-align: middle;\n",
       "    }\n",
       "\n",
       "    .dataframe tbody tr th {\n",
       "        vertical-align: top;\n",
       "    }\n",
       "\n",
       "    .dataframe thead th {\n",
       "        text-align: right;\n",
       "    }\n",
       "</style>\n",
       "<table border=\"1\" class=\"dataframe\">\n",
       "  <thead>\n",
       "    <tr style=\"text-align: right;\">\n",
       "      <th></th>\n",
       "      <th>CustomerID</th>\n",
       "      <th>Last_purshace_date</th>\n",
       "      <th>Recency</th>\n",
       "      <th>Frequency</th>\n",
       "      <th>Monetary</th>\n",
       "      <th>Recency_rank</th>\n",
       "      <th>Frequency_rank</th>\n",
       "      <th>Monetary_rank</th>\n",
       "    </tr>\n",
       "  </thead>\n",
       "  <tbody>\n",
       "    <tr>\n",
       "      <th>0</th>\n",
       "      <td>C37051</td>\n",
       "      <td>2021-07-06</td>\n",
       "      <td>86</td>\n",
       "      <td>2</td>\n",
       "      <td>307</td>\n",
       "      <td>391.5</td>\n",
       "      <td>342.0</td>\n",
       "      <td>94.5</td>\n",
       "    </tr>\n",
       "    <tr>\n",
       "      <th>1</th>\n",
       "      <td>C37054</td>\n",
       "      <td>2021-09-28</td>\n",
       "      <td>2</td>\n",
       "      <td>7</td>\n",
       "      <td>3024</td>\n",
       "      <td>3437.5</td>\n",
       "      <td>3298.0</td>\n",
       "      <td>1995.5</td>\n",
       "    </tr>\n",
       "    <tr>\n",
       "      <th>2</th>\n",
       "      <td>C37057</td>\n",
       "      <td>2021-07-31</td>\n",
       "      <td>61</td>\n",
       "      <td>4</td>\n",
       "      <td>3175</td>\n",
       "      <td>607.5</td>\n",
       "      <td>1005.5</td>\n",
       "      <td>2207.5</td>\n",
       "    </tr>\n",
       "    <tr>\n",
       "      <th>3</th>\n",
       "      <td>C37060</td>\n",
       "      <td>2021-08-31</td>\n",
       "      <td>30</td>\n",
       "      <td>7</td>\n",
       "      <td>2753</td>\n",
       "      <td>1160.5</td>\n",
       "      <td>3298.0</td>\n",
       "      <td>1691.0</td>\n",
       "    </tr>\n",
       "    <tr>\n",
       "      <th>4</th>\n",
       "      <td>C37063</td>\n",
       "      <td>2021-09-24</td>\n",
       "      <td>6</td>\n",
       "      <td>2</td>\n",
       "      <td>1678</td>\n",
       "      <td>2698.5</td>\n",
       "      <td>342.0</td>\n",
       "      <td>791.5</td>\n",
       "    </tr>\n",
       "    <tr>\n",
       "      <th>5</th>\n",
       "      <td>C37069</td>\n",
       "      <td>2021-09-21</td>\n",
       "      <td>9</td>\n",
       "      <td>7</td>\n",
       "      <td>3890</td>\n",
       "      <td>2312.5</td>\n",
       "      <td>3298.0</td>\n",
       "      <td>3082.5</td>\n",
       "    </tr>\n",
       "    <tr>\n",
       "      <th>6</th>\n",
       "      <td>C37072</td>\n",
       "      <td>2021-03-11</td>\n",
       "      <td>203</td>\n",
       "      <td>1</td>\n",
       "      <td>504</td>\n",
       "      <td>59.5</td>\n",
       "      <td>107.0</td>\n",
       "      <td>181.0</td>\n",
       "    </tr>\n",
       "  </tbody>\n",
       "</table>\n",
       "</div>"
      ],
      "text/plain": [
       "  CustomerID Last_purshace_date  Recency  Frequency  Monetary  Recency_rank  \\\n",
       "0     C37051         2021-07-06       86          2       307         391.5   \n",
       "1     C37054         2021-09-28        2          7      3024        3437.5   \n",
       "2     C37057         2021-07-31       61          4      3175         607.5   \n",
       "3     C37060         2021-08-31       30          7      2753        1160.5   \n",
       "4     C37063         2021-09-24        6          2      1678        2698.5   \n",
       "5     C37069         2021-09-21        9          7      3890        2312.5   \n",
       "6     C37072         2021-03-11      203          1       504          59.5   \n",
       "\n",
       "   Frequency_rank  Monetary_rank  \n",
       "0           342.0           94.5  \n",
       "1          3298.0         1995.5  \n",
       "2          1005.5         2207.5  \n",
       "3          3298.0         1691.0  \n",
       "4           342.0          791.5  \n",
       "5          3298.0         3082.5  \n",
       "6           107.0          181.0  "
      ]
     },
     "execution_count": 49,
     "metadata": {},
     "output_type": "execute_result"
    }
   ],
   "source": [
    "final_RFM['Recency_rank'] = final_RFM['Recency'].rank( ascending=False) \n",
    "final_RFM['Frequency_rank'] = final_RFM['Frequency'].rank(ascending=True)\n",
    "final_RFM['Monetary_rank'] = final_RFM['Monetary'].rank(ascending=True)\n",
    "final_RFM.head(7)"
   ]
  },
  {
   "cell_type": "markdown",
   "id": "15fe268b",
   "metadata": {},
   "source": [
    "# Normalization of RFM ranked scores"
   ]
  },
  {
   "cell_type": "code",
   "execution_count": 50,
   "id": "2fe1c592",
   "metadata": {},
   "outputs": [
    {
     "data": {
      "text/html": [
       "<div>\n",
       "<style scoped>\n",
       "    .dataframe tbody tr th:only-of-type {\n",
       "        vertical-align: middle;\n",
       "    }\n",
       "\n",
       "    .dataframe tbody tr th {\n",
       "        vertical-align: top;\n",
       "    }\n",
       "\n",
       "    .dataframe thead th {\n",
       "        text-align: right;\n",
       "    }\n",
       "</style>\n",
       "<table border=\"1\" class=\"dataframe\">\n",
       "  <thead>\n",
       "    <tr style=\"text-align: right;\">\n",
       "      <th></th>\n",
       "      <th>CustomerID</th>\n",
       "      <th>Last_purshace_date</th>\n",
       "      <th>Recency</th>\n",
       "      <th>Frequency</th>\n",
       "      <th>Monetary</th>\n",
       "      <th>Recency_rank</th>\n",
       "      <th>Frequency_rank</th>\n",
       "      <th>Monetary_rank</th>\n",
       "      <th>Recency_rank_norm</th>\n",
       "      <th>Frequency_rank_norm</th>\n",
       "      <th>Monetary_rank_norm</th>\n",
       "    </tr>\n",
       "  </thead>\n",
       "  <tbody>\n",
       "    <tr>\n",
       "      <th>0</th>\n",
       "      <td>C37051</td>\n",
       "      <td>2021-07-06</td>\n",
       "      <td>86</td>\n",
       "      <td>2</td>\n",
       "      <td>307</td>\n",
       "      <td>391.5</td>\n",
       "      <td>342.0</td>\n",
       "      <td>94.5</td>\n",
       "      <td>9.612080</td>\n",
       "      <td>10.369921</td>\n",
       "      <td>2.210009</td>\n",
       "    </tr>\n",
       "    <tr>\n",
       "      <th>1</th>\n",
       "      <td>C37054</td>\n",
       "      <td>2021-09-28</td>\n",
       "      <td>2</td>\n",
       "      <td>7</td>\n",
       "      <td>3024</td>\n",
       "      <td>3437.5</td>\n",
       "      <td>3298.0</td>\n",
       "      <td>1995.5</td>\n",
       "      <td>84.397250</td>\n",
       "      <td>100.000000</td>\n",
       "      <td>46.667446</td>\n",
       "    </tr>\n",
       "    <tr>\n",
       "      <th>2</th>\n",
       "      <td>C37057</td>\n",
       "      <td>2021-07-31</td>\n",
       "      <td>61</td>\n",
       "      <td>4</td>\n",
       "      <td>3175</td>\n",
       "      <td>607.5</td>\n",
       "      <td>1005.5</td>\n",
       "      <td>2207.5</td>\n",
       "      <td>14.915296</td>\n",
       "      <td>30.488175</td>\n",
       "      <td>51.625351</td>\n",
       "    </tr>\n",
       "    <tr>\n",
       "      <th>3</th>\n",
       "      <td>C37060</td>\n",
       "      <td>2021-08-31</td>\n",
       "      <td>30</td>\n",
       "      <td>7</td>\n",
       "      <td>2753</td>\n",
       "      <td>1160.5</td>\n",
       "      <td>3298.0</td>\n",
       "      <td>1691.0</td>\n",
       "      <td>28.492512</td>\n",
       "      <td>100.000000</td>\n",
       "      <td>39.546305</td>\n",
       "    </tr>\n",
       "    <tr>\n",
       "      <th>4</th>\n",
       "      <td>C37063</td>\n",
       "      <td>2021-09-24</td>\n",
       "      <td>6</td>\n",
       "      <td>2</td>\n",
       "      <td>1678</td>\n",
       "      <td>2698.5</td>\n",
       "      <td>342.0</td>\n",
       "      <td>791.5</td>\n",
       "      <td>66.253376</td>\n",
       "      <td>10.369921</td>\n",
       "      <td>18.510290</td>\n",
       "    </tr>\n",
       "    <tr>\n",
       "      <th>5</th>\n",
       "      <td>C37069</td>\n",
       "      <td>2021-09-21</td>\n",
       "      <td>9</td>\n",
       "      <td>7</td>\n",
       "      <td>3890</td>\n",
       "      <td>2312.5</td>\n",
       "      <td>3298.0</td>\n",
       "      <td>3082.5</td>\n",
       "      <td>56.776332</td>\n",
       "      <td>100.000000</td>\n",
       "      <td>72.088400</td>\n",
       "    </tr>\n",
       "    <tr>\n",
       "      <th>6</th>\n",
       "      <td>C37072</td>\n",
       "      <td>2021-03-11</td>\n",
       "      <td>203</td>\n",
       "      <td>1</td>\n",
       "      <td>504</td>\n",
       "      <td>59.5</td>\n",
       "      <td>107.0</td>\n",
       "      <td>181.0</td>\n",
       "      <td>1.460840</td>\n",
       "      <td>3.244391</td>\n",
       "      <td>4.232928</td>\n",
       "    </tr>\n",
       "  </tbody>\n",
       "</table>\n",
       "</div>"
      ],
      "text/plain": [
       "  CustomerID Last_purshace_date  Recency  Frequency  Monetary  Recency_rank  \\\n",
       "0     C37051         2021-07-06       86          2       307         391.5   \n",
       "1     C37054         2021-09-28        2          7      3024        3437.5   \n",
       "2     C37057         2021-07-31       61          4      3175         607.5   \n",
       "3     C37060         2021-08-31       30          7      2753        1160.5   \n",
       "4     C37063         2021-09-24        6          2      1678        2698.5   \n",
       "5     C37069         2021-09-21        9          7      3890        2312.5   \n",
       "6     C37072         2021-03-11      203          1       504          59.5   \n",
       "\n",
       "   Frequency_rank  Monetary_rank  Recency_rank_norm  Frequency_rank_norm  \\\n",
       "0           342.0           94.5           9.612080            10.369921   \n",
       "1          3298.0         1995.5          84.397250           100.000000   \n",
       "2          1005.5         2207.5          14.915296            30.488175   \n",
       "3          3298.0         1691.0          28.492512           100.000000   \n",
       "4           342.0          791.5          66.253376            10.369921   \n",
       "5          3298.0         3082.5          56.776332           100.000000   \n",
       "6           107.0          181.0           1.460840             3.244391   \n",
       "\n",
       "   Monetary_rank_norm  \n",
       "0            2.210009  \n",
       "1           46.667446  \n",
       "2           51.625351  \n",
       "3           39.546305  \n",
       "4           18.510290  \n",
       "5           72.088400  \n",
       "6            4.232928  "
      ]
     },
     "execution_count": 50,
     "metadata": {},
     "output_type": "execute_result"
    }
   ],
   "source": [
    "final_RFM['Recency_rank_norm']=(final_RFM['Recency_rank']/final_RFM['Recency_rank'].max())*100\n",
    "final_RFM['Frequency_rank_norm']=(final_RFM['Frequency_rank']/final_RFM['Frequency_rank'].max())*100\n",
    "final_RFM['Monetary_rank_norm']=(final_RFM['Monetary_rank']/final_RFM['Monetary_rank'].max())*100\n",
    "final_RFM.head(7)"
   ]
  },
  {
   "cell_type": "code",
   "execution_count": 51,
   "id": "60774816",
   "metadata": {},
   "outputs": [
    {
     "data": {
      "text/html": [
       "<div>\n",
       "<style scoped>\n",
       "    .dataframe tbody tr th:only-of-type {\n",
       "        vertical-align: middle;\n",
       "    }\n",
       "\n",
       "    .dataframe tbody tr th {\n",
       "        vertical-align: top;\n",
       "    }\n",
       "\n",
       "    .dataframe thead th {\n",
       "        text-align: right;\n",
       "    }\n",
       "</style>\n",
       "<table border=\"1\" class=\"dataframe\">\n",
       "  <thead>\n",
       "    <tr style=\"text-align: right;\">\n",
       "      <th></th>\n",
       "      <th>CustomerID</th>\n",
       "      <th>Last_purshace_date</th>\n",
       "      <th>Recency</th>\n",
       "      <th>Frequency</th>\n",
       "      <th>Monetary</th>\n",
       "      <th>Recency_rank</th>\n",
       "      <th>Frequency_rank</th>\n",
       "      <th>Monetary_rank</th>\n",
       "      <th>Recency_rank_norm</th>\n",
       "      <th>Frequency_rank_norm</th>\n",
       "      <th>Monetary_rank_norm</th>\n",
       "      <th>RFM_Score</th>\n",
       "    </tr>\n",
       "  </thead>\n",
       "  <tbody>\n",
       "    <tr>\n",
       "      <th>0</th>\n",
       "      <td>C37051</td>\n",
       "      <td>2021-07-06</td>\n",
       "      <td>86</td>\n",
       "      <td>2</td>\n",
       "      <td>307</td>\n",
       "      <td>392.0</td>\n",
       "      <td>342.0</td>\n",
       "      <td>94.0</td>\n",
       "      <td>10.0</td>\n",
       "      <td>10.0</td>\n",
       "      <td>2.0</td>\n",
       "      <td>5.0</td>\n",
       "    </tr>\n",
       "    <tr>\n",
       "      <th>1</th>\n",
       "      <td>C37054</td>\n",
       "      <td>2021-09-28</td>\n",
       "      <td>2</td>\n",
       "      <td>7</td>\n",
       "      <td>3024</td>\n",
       "      <td>3438.0</td>\n",
       "      <td>3298.0</td>\n",
       "      <td>1996.0</td>\n",
       "      <td>84.0</td>\n",
       "      <td>100.0</td>\n",
       "      <td>47.0</td>\n",
       "      <td>65.0</td>\n",
       "    </tr>\n",
       "    <tr>\n",
       "      <th>2</th>\n",
       "      <td>C37057</td>\n",
       "      <td>2021-07-31</td>\n",
       "      <td>61</td>\n",
       "      <td>4</td>\n",
       "      <td>3175</td>\n",
       "      <td>608.0</td>\n",
       "      <td>1006.0</td>\n",
       "      <td>2208.0</td>\n",
       "      <td>15.0</td>\n",
       "      <td>30.0</td>\n",
       "      <td>52.0</td>\n",
       "      <td>40.0</td>\n",
       "    </tr>\n",
       "    <tr>\n",
       "      <th>3</th>\n",
       "      <td>C37060</td>\n",
       "      <td>2021-08-31</td>\n",
       "      <td>30</td>\n",
       "      <td>7</td>\n",
       "      <td>2753</td>\n",
       "      <td>1160.0</td>\n",
       "      <td>3298.0</td>\n",
       "      <td>1691.0</td>\n",
       "      <td>28.0</td>\n",
       "      <td>100.0</td>\n",
       "      <td>40.0</td>\n",
       "      <td>49.0</td>\n",
       "    </tr>\n",
       "    <tr>\n",
       "      <th>4</th>\n",
       "      <td>C37063</td>\n",
       "      <td>2021-09-24</td>\n",
       "      <td>6</td>\n",
       "      <td>2</td>\n",
       "      <td>1678</td>\n",
       "      <td>2698.0</td>\n",
       "      <td>342.0</td>\n",
       "      <td>792.0</td>\n",
       "      <td>66.0</td>\n",
       "      <td>10.0</td>\n",
       "      <td>19.0</td>\n",
       "      <td>26.0</td>\n",
       "    </tr>\n",
       "  </tbody>\n",
       "</table>\n",
       "</div>"
      ],
      "text/plain": [
       "  CustomerID Last_purshace_date  Recency  Frequency  Monetary  Recency_rank  \\\n",
       "0     C37051         2021-07-06       86          2       307         392.0   \n",
       "1     C37054         2021-09-28        2          7      3024        3438.0   \n",
       "2     C37057         2021-07-31       61          4      3175         608.0   \n",
       "3     C37060         2021-08-31       30          7      2753        1160.0   \n",
       "4     C37063         2021-09-24        6          2      1678        2698.0   \n",
       "\n",
       "   Frequency_rank  Monetary_rank  Recency_rank_norm  Frequency_rank_norm  \\\n",
       "0           342.0           94.0               10.0                 10.0   \n",
       "1          3298.0         1996.0               84.0                100.0   \n",
       "2          1006.0         2208.0               15.0                 30.0   \n",
       "3          3298.0         1691.0               28.0                100.0   \n",
       "4           342.0          792.0               66.0                 10.0   \n",
       "\n",
       "   Monetary_rank_norm  RFM_Score  \n",
       "0                 2.0        5.0  \n",
       "1                47.0       65.0  \n",
       "2                52.0       40.0  \n",
       "3                40.0       49.0  \n",
       "4                19.0       26.0  "
      ]
     },
     "execution_count": 51,
     "metadata": {},
     "output_type": "execute_result"
    }
   ],
   "source": [
    "# Calculate RFM score\n",
    "final_RFM['RFM_Score']=0.2*final_RFM['Recency_rank_norm']+0.2*final_RFM['Frequency_rank_norm']+0.6*final_RFM['Monetary_rank_norm']\n",
    "final_RFM=final_RFM.round(0)\n",
    "final_RFM.head()"
   ]
  },
  {
   "cell_type": "markdown",
   "id": "7b6ff5b4",
   "metadata": {},
   "source": [
    "- RFM score < 25 then ‘Leaving customers’\n",
    "- RFM score >= 25 and< 50 then ‘Risky customers’\n",
    "- RFM score >= 50 and< 75 then ‘Potential Loyalists’\n",
    "- RFM score >= 75 then ‘Champions’"
   ]
  },
  {
   "cell_type": "code",
   "execution_count": 52,
   "id": "77de148f",
   "metadata": {
    "scrolled": true
   },
   "outputs": [
    {
     "data": {
      "text/html": [
       "<div>\n",
       "<style scoped>\n",
       "    .dataframe tbody tr th:only-of-type {\n",
       "        vertical-align: middle;\n",
       "    }\n",
       "\n",
       "    .dataframe tbody tr th {\n",
       "        vertical-align: top;\n",
       "    }\n",
       "\n",
       "    .dataframe thead th {\n",
       "        text-align: right;\n",
       "    }\n",
       "</style>\n",
       "<table border=\"1\" class=\"dataframe\">\n",
       "  <thead>\n",
       "    <tr style=\"text-align: right;\">\n",
       "      <th></th>\n",
       "      <th>CustomerID</th>\n",
       "      <th>Last_purshace_date</th>\n",
       "      <th>Recency</th>\n",
       "      <th>Frequency</th>\n",
       "      <th>Monetary</th>\n",
       "      <th>Recency_rank</th>\n",
       "      <th>Frequency_rank</th>\n",
       "      <th>Monetary_rank</th>\n",
       "      <th>Recency_rank_norm</th>\n",
       "      <th>Frequency_rank_norm</th>\n",
       "      <th>Monetary_rank_norm</th>\n",
       "      <th>RFM_Score</th>\n",
       "      <th>Customer_segment</th>\n",
       "    </tr>\n",
       "  </thead>\n",
       "  <tbody>\n",
       "    <tr>\n",
       "      <th>0</th>\n",
       "      <td>C37051</td>\n",
       "      <td>2021-07-06</td>\n",
       "      <td>86</td>\n",
       "      <td>2</td>\n",
       "      <td>307</td>\n",
       "      <td>392.0</td>\n",
       "      <td>342.0</td>\n",
       "      <td>94.0</td>\n",
       "      <td>10.0</td>\n",
       "      <td>10.0</td>\n",
       "      <td>2.0</td>\n",
       "      <td>5.0</td>\n",
       "      <td>Leaving</td>\n",
       "    </tr>\n",
       "    <tr>\n",
       "      <th>1</th>\n",
       "      <td>C37054</td>\n",
       "      <td>2021-09-28</td>\n",
       "      <td>2</td>\n",
       "      <td>7</td>\n",
       "      <td>3024</td>\n",
       "      <td>3438.0</td>\n",
       "      <td>3298.0</td>\n",
       "      <td>1996.0</td>\n",
       "      <td>84.0</td>\n",
       "      <td>100.0</td>\n",
       "      <td>47.0</td>\n",
       "      <td>65.0</td>\n",
       "      <td>Potential Loyalists</td>\n",
       "    </tr>\n",
       "    <tr>\n",
       "      <th>2</th>\n",
       "      <td>C37057</td>\n",
       "      <td>2021-07-31</td>\n",
       "      <td>61</td>\n",
       "      <td>4</td>\n",
       "      <td>3175</td>\n",
       "      <td>608.0</td>\n",
       "      <td>1006.0</td>\n",
       "      <td>2208.0</td>\n",
       "      <td>15.0</td>\n",
       "      <td>30.0</td>\n",
       "      <td>52.0</td>\n",
       "      <td>40.0</td>\n",
       "      <td>Risky Customers</td>\n",
       "    </tr>\n",
       "    <tr>\n",
       "      <th>3</th>\n",
       "      <td>C37060</td>\n",
       "      <td>2021-08-31</td>\n",
       "      <td>30</td>\n",
       "      <td>7</td>\n",
       "      <td>2753</td>\n",
       "      <td>1160.0</td>\n",
       "      <td>3298.0</td>\n",
       "      <td>1691.0</td>\n",
       "      <td>28.0</td>\n",
       "      <td>100.0</td>\n",
       "      <td>40.0</td>\n",
       "      <td>49.0</td>\n",
       "      <td>Risky Customers</td>\n",
       "    </tr>\n",
       "    <tr>\n",
       "      <th>4</th>\n",
       "      <td>C37063</td>\n",
       "      <td>2021-09-24</td>\n",
       "      <td>6</td>\n",
       "      <td>2</td>\n",
       "      <td>1678</td>\n",
       "      <td>2698.0</td>\n",
       "      <td>342.0</td>\n",
       "      <td>792.0</td>\n",
       "      <td>66.0</td>\n",
       "      <td>10.0</td>\n",
       "      <td>19.0</td>\n",
       "      <td>26.0</td>\n",
       "      <td>Risky Customers</td>\n",
       "    </tr>\n",
       "  </tbody>\n",
       "</table>\n",
       "</div>"
      ],
      "text/plain": [
       "  CustomerID Last_purshace_date  Recency  Frequency  Monetary  Recency_rank  \\\n",
       "0     C37051         2021-07-06       86          2       307         392.0   \n",
       "1     C37054         2021-09-28        2          7      3024        3438.0   \n",
       "2     C37057         2021-07-31       61          4      3175         608.0   \n",
       "3     C37060         2021-08-31       30          7      2753        1160.0   \n",
       "4     C37063         2021-09-24        6          2      1678        2698.0   \n",
       "\n",
       "   Frequency_rank  Monetary_rank  Recency_rank_norm  Frequency_rank_norm  \\\n",
       "0           342.0           94.0               10.0                 10.0   \n",
       "1          3298.0         1996.0               84.0                100.0   \n",
       "2          1006.0         2208.0               15.0                 30.0   \n",
       "3          3298.0         1691.0               28.0                100.0   \n",
       "4           342.0          792.0               66.0                 10.0   \n",
       "\n",
       "   Monetary_rank_norm  RFM_Score     Customer_segment  \n",
       "0                 2.0        5.0              Leaving  \n",
       "1                47.0       65.0  Potential Loyalists  \n",
       "2                52.0       40.0      Risky Customers  \n",
       "3                40.0       49.0      Risky Customers  \n",
       "4                19.0       26.0      Risky Customers  "
      ]
     },
     "execution_count": 52,
     "metadata": {},
     "output_type": "execute_result"
    }
   ],
   "source": [
    "final_RFM[\"Customer_segment\"]=np.where((final_RFM['RFM_Score'] >= 25) & (final_RFM['RFM_Score'] <50),\"Risky Customers\",\n",
    "                                    np.where(final_RFM['RFM_Score'] >= 75 ,\"Champions\",np.where(final_RFM['RFM_Score'] < 25,\"Leaving\",\"Potential Loyalists\"))) \n",
    "final_RFM.head()"
   ]
  },
  {
   "cell_type": "code",
   "execution_count": 53,
   "id": "c43de70b",
   "metadata": {},
   "outputs": [
    {
     "data": {
      "text/plain": [
       "5       Champions\n",
       "39      Champions\n",
       "48      Champions\n",
       "70      Champions\n",
       "105     Champions\n",
       "          ...    \n",
       "3996    Champions\n",
       "4191    Champions\n",
       "4230    Champions\n",
       "4241    Champions\n",
       "4265    Champions\n",
       "Name: Customer_segment, Length: 76, dtype: object"
      ]
     },
     "execution_count": 53,
     "metadata": {},
     "output_type": "execute_result"
    }
   ],
   "source": [
    "final_RFM[final_RFM['RFM_Score'] == 75].Customer_segment"
   ]
  },
  {
   "cell_type": "code",
   "execution_count": 54,
   "id": "8899acc0",
   "metadata": {},
   "outputs": [
    {
     "data": {
      "text/plain": [
       "1.0"
      ]
     },
     "execution_count": 54,
     "metadata": {},
     "output_type": "execute_result"
    }
   ],
   "source": [
    "final_RFM['RFM_Score'].min()"
   ]
  },
  {
   "cell_type": "code",
   "execution_count": 55,
   "id": "872049d2",
   "metadata": {},
   "outputs": [
    {
     "data": {
      "text/plain": [
       "Index(['CustomerID', 'Purchase_Date', 'Quantity', 'UnitPrice', 'Gender',\n",
       "       'City', 'Age', 'MonthlyIncome', 'Product_Name', 'Cost'],\n",
       "      dtype='object')"
      ]
     },
     "execution_count": 55,
     "metadata": {},
     "output_type": "execute_result"
    }
   ],
   "source": [
    "df.columns"
   ]
  },
  {
   "cell_type": "code",
   "execution_count": 56,
   "id": "f2040a42",
   "metadata": {},
   "outputs": [
    {
     "data": {
      "image/png": "[encoded data removed]",
      "text/plain": [
       "<Figure size 432x288 with 1 Axes>"
      ]
     },
     "metadata": {
      "needs_background": "light"
     },
     "output_type": "display_data"
    }
   ],
   "source": [
    "data_rfm_merged = df.merge(final_RFM, on='CustomerID')\n",
    "data_rfm_merged.groupby('Customer_segment')[['CustomerID']].count()\n",
    "pd.crosstab(data_rfm_merged['Customer_segment'], data_rfm_merged['Gender']).plot(kind='bar', stacked=True);"
   ]
  },
  {
   "cell_type": "code",
   "execution_count": 57,
   "id": "42bd637f",
   "metadata": {},
   "outputs": [
    {
     "data": {
      "text/html": [
       "<div>\n",
       "<style scoped>\n",
       "    .dataframe tbody tr th:only-of-type {\n",
       "        vertical-align: middle;\n",
       "    }\n",
       "\n",
       "    .dataframe tbody tr th {\n",
       "        vertical-align: top;\n",
       "    }\n",
       "\n",
       "    .dataframe thead th {\n",
       "        text-align: right;\n",
       "    }\n",
       "</style>\n",
       "<table border=\"1\" class=\"dataframe\">\n",
       "  <thead>\n",
       "    <tr style=\"text-align: right;\">\n",
       "      <th>Gender</th>\n",
       "      <th>Female</th>\n",
       "      <th>Male</th>\n",
       "    </tr>\n",
       "    <tr>\n",
       "      <th>Customer_segment</th>\n",
       "      <th></th>\n",
       "      <th></th>\n",
       "    </tr>\n",
       "  </thead>\n",
       "  <tbody>\n",
       "    <tr>\n",
       "      <th>Champions</th>\n",
       "      <td>3978</td>\n",
       "      <td>4232</td>\n",
       "    </tr>\n",
       "    <tr>\n",
       "      <th>Leaving</th>\n",
       "      <td>1052</td>\n",
       "      <td>1029</td>\n",
       "    </tr>\n",
       "    <tr>\n",
       "      <th>Potential Loyalists</th>\n",
       "      <td>4244</td>\n",
       "      <td>4182</td>\n",
       "    </tr>\n",
       "    <tr>\n",
       "      <th>Risky Customers</th>\n",
       "      <td>2363</td>\n",
       "      <td>2141</td>\n",
       "    </tr>\n",
       "  </tbody>\n",
       "</table>\n",
       "</div>"
      ],
      "text/plain": [
       "Gender               Female  Male\n",
       "Customer_segment                 \n",
       "Champions              3978  4232\n",
       "Leaving                1052  1029\n",
       "Potential Loyalists    4244  4182\n",
       "Risky Customers        2363  2141"
      ]
     },
     "execution_count": 57,
     "metadata": {},
     "output_type": "execute_result"
    }
   ],
   "source": [
    "pd.crosstab(data_rfm_merged['Customer_segment'], data_rfm_merged['Gender'])"
   ]
  },
  {
   "cell_type": "markdown",
   "id": "51410c39",
   "metadata": {},
   "source": [
    "Most of the customers are Potential Loyalists and Champions, which is a good indicator. Moreover, the ratio of female and male on each segment is almost equal. However, the company has a lot of risky customers who need extra attention. Compared to loyal and champion customer, the number of leaving clients are low, but it will be recommended for the company to find causes that make clients to leave."
   ]
  },
  {
   "cell_type": "markdown",
   "id": "3a947c36",
   "metadata": {},
   "source": [
    "# K-Means clustering analysis"
   ]
  },
  {
   "cell_type": "code",
   "execution_count": 58,
   "id": "ba13a7a2",
   "metadata": {},
   "outputs": [
    {
     "data": {
      "text/plain": [
       "Index(['CustomerID', 'Purchase_Date', 'Quantity', 'UnitPrice', 'Gender',\n",
       "       'City', 'Age', 'MonthlyIncome', 'Product_Name', 'Cost',\n",
       "       'Last_purshace_date', 'Recency', 'Frequency', 'Monetary',\n",
       "       'Recency_rank', 'Frequency_rank', 'Monetary_rank', 'Recency_rank_norm',\n",
       "       'Frequency_rank_norm', 'Monetary_rank_norm', 'RFM_Score',\n",
       "       'Customer_segment'],\n",
       "      dtype='object')"
      ]
     },
     "execution_count": 58,
     "metadata": {},
     "output_type": "execute_result"
    }
   ],
   "source": [
    "data_rfm_merged.columns"
   ]
  },
  {
   "cell_type": "code",
   "execution_count": 59,
   "id": "79d8ca42",
   "metadata": {},
   "outputs": [],
   "source": [
    "data_k_means = data_rfm_merged[['Recency_rank_norm','Frequency_rank_norm','Monetary_rank_norm','Age','MonthlyIncome']]"
   ]
  },
  {
   "cell_type": "code",
   "execution_count": 60,
   "id": "c35885a1",
   "metadata": {},
   "outputs": [
    {
     "data": {
      "text/plain": [
       "1    11977\n",
       "0    11244\n",
       "Name: cluster, dtype: int64"
      ]
     },
     "execution_count": 60,
     "metadata": {},
     "output_type": "execute_result"
    }
   ],
   "source": [
    "model_kmeans = KMeans(n_clusters=2, init='k-means++',random_state=42)\n",
    "y_means = model_kmeans.fit_predict(data_k_means)\n",
    "data_rfm_merged[\"cluster\"] = y_means\n",
    "data_rfm_merged[\"cluster\"].value_counts()"
   ]
  },
  {
   "cell_type": "markdown",
   "id": "034ac990",
   "metadata": {},
   "source": [
    "# Using Elbow and Silhouette_score to find the optimal number of clusters"
   ]
  },
  {
   "cell_type": "code",
   "execution_count": 61,
   "id": "43c2872e",
   "metadata": {},
   "outputs": [
    {
     "data": {
      "image/png": "[encoded data removed]",
      "text/plain": [
       "<Figure size 432x288 with 1 Axes>"
      ]
     },
     "metadata": {
      "needs_background": "light"
     },
     "output_type": "display_data"
    }
   ],
   "source": [
    "wcss= [] #the sum of squared distance between each point and the centroid in a cluster\n",
    "for i in range(1,11):\n",
    "    k_means = KMeans(n_clusters=i, init=\"k-means++\")\n",
    "    k_means.fit(data_k_means)\n",
    "    wcss.append(k_means.inertia_)\n",
    "\n",
    "plt.plot(range(1,11),wcss)\n",
    "plt.title(\"Elbow Method\")\n",
    "plt.xlabel(\"Number of Clusters\")\n",
    "plt.ylabel(\"WCSS\")\n",
    "plt.show()"
   ]
  },
  {
   "cell_type": "markdown",
   "id": "01bafa75",
   "metadata": {},
   "source": [
    "## From the above we can conclude that the optimal number of clusers is k=2"
   ]
  },
  {
   "cell_type": "code",
   "execution_count": 62,
   "id": "d4ec689c",
   "metadata": {},
   "outputs": [
    {
     "data": {
      "text/plain": [
       "1    11977\n",
       "0    11244\n",
       "Name: cluster, dtype: int64"
      ]
     },
     "execution_count": 62,
     "metadata": {},
     "output_type": "execute_result"
    }
   ],
   "source": [
    "# Since cluster number isn't changed, the output will be the same as above. \n",
    "# However, for convinence, I'll show the same codes here as well.\n",
    "\n",
    "model_kmeans_3 = KMeans(n_clusters=2, init='k-means++',random_state=42)\n",
    "y_means = model_kmeans_3.fit_predict(data_k_means)\n",
    "data_rfm_merged[\"cluster\"] = y_means\n",
    "data_rfm_merged['cluster'].value_counts()"
   ]
  },
  {
   "cell_type": "code",
   "execution_count": 63,
   "id": "2dffeda8",
   "metadata": {},
   "outputs": [
    {
     "data": {
      "text/plain": [
       "0.6165042052735574"
      ]
     },
     "execution_count": 63,
     "metadata": {},
     "output_type": "execute_result"
    }
   ],
   "source": [
    "silhouette_score(data_k_means,y_means)"
   ]
  },
  {
   "cell_type": "code",
   "execution_count": 64,
   "id": "6fe7819f",
   "metadata": {},
   "outputs": [],
   "source": [
    "from itertools import combinations\n",
    "from scipy.spatial.distance import euclidean\n",
    "\n",
    "def dunn_index(X, labels):\n",
    "    \"\"\"\n",
    "    Calculate the Dunn Index for a set of clusters.\n",
    "\n",
    "    Parameters:\n",
    "        X (numpy.ndarray): Data points in the form of a 2D array (n_samples, n_features).\n",
    "        labels (numpy.ndarray): Cluster assignments for each data point.\n",
    "\n",
    "    Returns:\n",
    "        float: Dunn Index value.\n",
    "    \"\"\"\n",
    "    num_clusters = len(np.unique(labels))\n",
    "    cluster_centers = []\n",
    "    cluster_diameters = np.zeros(num_clusters)\n",
    "\n",
    "    for cluster_id in range(num_clusters):\n",
    "        cluster_points = X[labels == cluster_id]\n",
    "        cluster_centers.append(np.mean(cluster_points, axis=0))\n",
    "        max_diameter = 0\n",
    "\n",
    "        # Calculate the maximum pairwise distance within each cluster\n",
    "        for point1, point2 in combinations(cluster_points, 2):\n",
    "            distance = euclidean(point1, point2)\n",
    "            if distance > max_diameter:\n",
    "                max_diameter = distance\n",
    "\n",
    "        cluster_diameters[cluster_id] = max_diameter\n",
    "\n",
    "    min_intercluster_distances = np.full((num_clusters, num_clusters), np.inf)\n",
    "\n",
    "    # Calculate the minimum pairwise distance between cluster centers\n",
    "    for i in range(num_clusters):\n",
    "        for j in range(i + 1, num_clusters):\n",
    "            distance = euclidean(cluster_centers[i], cluster_centers[j])\n",
    "            min_intercluster_distances[i, j] = distance\n",
    "            min_intercluster_distances[j, i] = distance\n",
    "\n",
    "    min_intercluster_distance = np.min(min_intercluster_distances)\n",
    "\n",
    "    return min_intercluster_distance / np.max(cluster_diameters)\n"
   ]
  },
  {
   "cell_type": "code",
   "execution_count": 65,
   "id": "5dc6a80e",
   "metadata": {},
   "outputs": [
    {
     "name": "stdout",
     "output_type": "stream",
     "text": [
      "Dunn Index: 0.9889115806442851\n"
     ]
    }
   ],
   "source": [
    "X= data_rfm_merged[['Recency_rank_norm','Frequency_rank_norm','Monetary_rank_norm','Age','MonthlyIncome']].values\n",
    "\n",
    "# Perform K-Means clustering\n",
    "kmeans = KMeans(n_clusters=3)\n",
    "labels = kmeans.fit_predict(X)\n",
    "\n",
    "# Calculate the Dunn Index\n",
    "dunn_value = dunn_index(X, labels)\n",
    "print(f\"Dunn Index: {dunn_value}\")"
   ]
  },
  {
   "cell_type": "code",
   "execution_count": 66,
   "id": "56251a5c",
   "metadata": {},
   "outputs": [
    {
     "name": "stdout",
     "output_type": "stream",
     "text": [
      "   cluster  MonthlyIncome\n",
      "0        0    7389.382337\n",
      "1        1    4181.456291\n"
     ]
    }
   ],
   "source": [
    "# Group the data by 'Cluster' and calculate the average cost for each group\n",
    "average_monthlysalary_by_cluster = data_rfm_merged.groupby('cluster')['MonthlyIncome'].mean().reset_index()\n",
    "print(average_monthlysalary_by_cluster)"
   ]
  },
  {
   "cell_type": "markdown",
   "id": "00234336",
   "metadata": {},
   "source": [
    "Number of customer in the first cluster is 11977 and 11244 in the second cluster. These numbers are close to each other, which means that people are devided into groups equally. One of the characteristics on each group is their monthly income. For the first cluster, average monthly income is 7389.382337, and 4181.456291 for the second cluster."
   ]
  }
 ],
 "metadata": {
  "kernelspec": {
   "display_name": "Python 3 (ipykernel)",
   "language": "python",
   "name": "python3"
  },
  "language_info": {
   "codemirror_mode": {
    "name": "ipython",
    "version": 3
   },
   "file_extension": ".py",
   "mimetype": "text/x-python",
   "name": "python",
   "nbconvert_exporter": "python",
   "pygments_lexer": "ipython3",
   "version": "3.9.7"
  }
 },
 "nbformat": 4,
 "nbformat_minor": 5
}
